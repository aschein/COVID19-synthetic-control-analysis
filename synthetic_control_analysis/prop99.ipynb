{
 "cells": [
  {
   "cell_type": "markdown",
   "metadata": {},
   "source": [
    "Preliminaries: importing the libraries."
   ]
  },
  {
   "cell_type": "code",
   "execution_count": 1,
   "metadata": {},
   "outputs": [],
   "source": [
    "import sys, os\n",
    "sys.path.append(\"../..\")\n",
    "sys.path.append(\"..\")\n",
    "sys.path.append(os.getcwd())\n",
    "\n",
    "from matplotlib import pyplot as plt\n",
    "import matplotlib.ticker as ticker\n",
    "import matplotlib.dates as mdates\n",
    "\n",
    "\n",
    "\n",
    "import numpy as np\n",
    "import pandas as pd\n",
    "import copy\n",
    "\n",
    "from tslib.src import tsUtils\n",
    "from tslib.src.synthcontrol.syntheticControl import RobustSyntheticControl\n",
    "from tslib.tests import testdata\n"
   ]
  },
  {
   "cell_type": "code",
   "execution_count": 2,
   "metadata": {},
   "outputs": [],
   "source": [
    "def hsvt(X, rank): \n",
    "    u, s, v = np.linalg.svd(X, full_matrices=False)\n",
    "    s[rank:].fill(0)\n",
    "    return np.dot(u*s, v) "
   ]
  },
  {
   "cell_type": "markdown",
   "metadata": {},
   "source": [
    "Reading in the data and converting it into a usable form"
   ]
  },
  {
   "cell_type": "code",
   "execution_count": 3,
   "metadata": {},
   "outputs": [],
   "source": [
    "directory = os.path.dirname(testdata.__file__)\n",
    "\n",
    "filename = directory + '/prop99.csv'\n",
    "\n",
    "\n",
    "df = pd.read_csv(filename)\n",
    "df = df[df['SubMeasureDesc'] == 'Cigarette Consumption (Pack Sales Per Capita)']\n",
    "pivot = df.pivot_table(values='Data_Value', index='LocationDesc', columns=['Year'])\n",
    "dfProp99 = pd.DataFrame(pivot.to_records())\n",
    "\n",
    "allColumns = dfProp99.columns.values"
   ]
  },
  {
   "cell_type": "markdown",
   "metadata": {},
   "source": [
    "The code above extracts out the relevant portion for our analysis, and finally what we need looks like the following. \n",
    "This is the format that you should get your dataset into for analysis. One row per \"unit\", and one column for every timepoint."
   ]
  },
  {
   "cell_type": "code",
   "execution_count": 4,
   "metadata": {},
   "outputs": [
    {
     "data": {
      "text/html": [
       "<div>\n",
       "<style scoped>\n",
       "    .dataframe tbody tr th:only-of-type {\n",
       "        vertical-align: middle;\n",
       "    }\n",
       "\n",
       "    .dataframe tbody tr th {\n",
       "        vertical-align: top;\n",
       "    }\n",
       "\n",
       "    .dataframe thead th {\n",
       "        text-align: right;\n",
       "    }\n",
       "</style>\n",
       "<table border=\"1\" class=\"dataframe\">\n",
       "  <thead>\n",
       "    <tr style=\"text-align: right;\">\n",
       "      <th></th>\n",
       "      <th>LocationDesc</th>\n",
       "      <th>1970</th>\n",
       "      <th>1971</th>\n",
       "      <th>1972</th>\n",
       "      <th>1973</th>\n",
       "      <th>...</th>\n",
       "      <th>2010</th>\n",
       "      <th>2011</th>\n",
       "      <th>2012</th>\n",
       "      <th>2013</th>\n",
       "      <th>2014</th>\n",
       "    </tr>\n",
       "  </thead>\n",
       "  <tbody>\n",
       "    <tr>\n",
       "      <th>0</th>\n",
       "      <td>Alabama</td>\n",
       "      <td>89.8</td>\n",
       "      <td>95.4</td>\n",
       "      <td>101.1</td>\n",
       "      <td>102.9</td>\n",
       "      <td>...</td>\n",
       "      <td>71.5</td>\n",
       "      <td>68.4</td>\n",
       "      <td>67.2</td>\n",
       "      <td>64.6</td>\n",
       "      <td>61.7</td>\n",
       "    </tr>\n",
       "    <tr>\n",
       "      <th>1</th>\n",
       "      <td>Alaska</td>\n",
       "      <td>121.3</td>\n",
       "      <td>123.0</td>\n",
       "      <td>130.0</td>\n",
       "      <td>125.8</td>\n",
       "      <td>...</td>\n",
       "      <td>43.8</td>\n",
       "      <td>43.3</td>\n",
       "      <td>41.2</td>\n",
       "      <td>39.0</td>\n",
       "      <td>37.2</td>\n",
       "    </tr>\n",
       "    <tr>\n",
       "      <th>2</th>\n",
       "      <td>Arizona</td>\n",
       "      <td>115.2</td>\n",
       "      <td>109.6</td>\n",
       "      <td>125.0</td>\n",
       "      <td>128.3</td>\n",
       "      <td>...</td>\n",
       "      <td>24.8</td>\n",
       "      <td>27.1</td>\n",
       "      <td>25.0</td>\n",
       "      <td>24.4</td>\n",
       "      <td>23.0</td>\n",
       "    </tr>\n",
       "    <tr>\n",
       "      <th>3</th>\n",
       "      <td>Arkansas</td>\n",
       "      <td>100.3</td>\n",
       "      <td>104.1</td>\n",
       "      <td>103.9</td>\n",
       "      <td>108.0</td>\n",
       "      <td>...</td>\n",
       "      <td>63.2</td>\n",
       "      <td>61.1</td>\n",
       "      <td>60.5</td>\n",
       "      <td>57.5</td>\n",
       "      <td>54.4</td>\n",
       "    </tr>\n",
       "    <tr>\n",
       "      <th>4</th>\n",
       "      <td>California</td>\n",
       "      <td>123.0</td>\n",
       "      <td>121.0</td>\n",
       "      <td>123.5</td>\n",
       "      <td>124.4</td>\n",
       "      <td>...</td>\n",
       "      <td>26.3</td>\n",
       "      <td>26.0</td>\n",
       "      <td>25.2</td>\n",
       "      <td>23.9</td>\n",
       "      <td>22.7</td>\n",
       "    </tr>\n",
       "  </tbody>\n",
       "</table>\n",
       "<p>5 rows × 46 columns</p>\n",
       "</div>"
      ],
      "text/plain": [
       "  LocationDesc   1970   1971   1972   1973  ...  2010  2011  2012  2013  2014\n",
       "0      Alabama   89.8   95.4  101.1  102.9  ...  71.5  68.4  67.2  64.6  61.7\n",
       "1       Alaska  121.3  123.0  130.0  125.8  ...  43.8  43.3  41.2  39.0  37.2\n",
       "2      Arizona  115.2  109.6  125.0  128.3  ...  24.8  27.1  25.0  24.4  23.0\n",
       "3     Arkansas  100.3  104.1  103.9  108.0  ...  63.2  61.1  60.5  57.5  54.4\n",
       "4   California  123.0  121.0  123.5  124.4  ...  26.3  26.0  25.2  23.9  22.7\n",
       "\n",
       "[5 rows x 46 columns]"
      ]
     },
     "execution_count": 4,
     "metadata": {},
     "output_type": "execute_result"
    }
   ],
   "source": [
    "pd.set_option('display.max_columns', 10)\n",
    "dfProp99.head()"
   ]
  },
  {
   "cell_type": "markdown",
   "metadata": {},
   "source": [
    "Now we extract the list of donor pools (\"otherStates\"), the intervention unit (\"caStateKey\"), the start and end year for the dataset and the year of the intervention."
   ]
  },
  {
   "cell_type": "code",
   "execution_count": 5,
   "metadata": {},
   "outputs": [],
   "source": [
    "states = list(np.unique(dfProp99['LocationDesc']))\n",
    "years = np.delete(allColumns, [0])\n",
    "caStateKey = 'California'\n",
    "states.remove(caStateKey)\n",
    "otherStates = states\n",
    "\n",
    "yearStart = 1970\n",
    "yearTrainEnd = 1989\n",
    "yearTestEnd = 2015\n",
    "\n",
    "p = 1.0"
   ]
  },
  {
   "cell_type": "markdown",
   "metadata": {},
   "source": [
    "Now we prep the data and split it into training and test sets."
   ]
  },
  {
   "cell_type": "code",
   "execution_count": 6,
   "metadata": {},
   "outputs": [],
   "source": [
    "trainingYears = []\n",
    "for i in range(yearStart, yearTrainEnd, 1):\n",
    "\ttrainingYears.append(str(i))\n",
    "\n",
    "testYears = []\n",
    "for i in range(yearTrainEnd, yearTestEnd, 1):\n",
    "\ttestYears.append(str(i))\n",
    "\n",
    "trainDataMasterDict = {}\n",
    "trainDataDict = {}\n",
    "testDataDict = {}\n",
    "for key in otherStates:\n",
    "\tseries = dfProp99.loc[dfProp99['LocationDesc'] == key]\n",
    "\n",
    "\ttrainDataMasterDict.update({key: series[trainingYears].values[0]})\n",
    "\n",
    "\t# randomly hide training data\n",
    "\t(trainData, pObservation) = tsUtils.randomlyHideValues(copy.deepcopy(trainDataMasterDict[key]), p)\n",
    "\ttrainDataDict.update({key: trainData})\n",
    "\ttestDataDict.update({key: series[testYears].values[0]})\n",
    "series = dfProp99[dfProp99['LocationDesc'] == caStateKey]\n",
    "trainDataMasterDict.update({caStateKey: series[trainingYears].values[0]})\n",
    "trainDataDict.update({caStateKey: series[trainingYears].values[0]})\n",
    "testDataDict.update({caStateKey: series[testYears].values[0]})\n",
    "\n",
    "trainMasterDF = pd.DataFrame(data=trainDataMasterDict)\n",
    "trainDF = pd.DataFrame(data=trainDataDict)\n",
    "testDF = pd.DataFrame(data=testDataDict)"
   ]
  },
  {
   "cell_type": "markdown",
   "metadata": {},
   "source": [
    "This is what the test and train matrices look like (in the library we represent each donor pool \n",
    "or intervention unit as a separate column, and each timepoint as a row)"
   ]
  },
  {
   "cell_type": "code",
   "execution_count": 7,
   "metadata": {},
   "outputs": [
    {
     "data": {
      "text/html": [
       "<div>\n",
       "<style scoped>\n",
       "    .dataframe tbody tr th:only-of-type {\n",
       "        vertical-align: middle;\n",
       "    }\n",
       "\n",
       "    .dataframe tbody tr th {\n",
       "        vertical-align: top;\n",
       "    }\n",
       "\n",
       "    .dataframe thead th {\n",
       "        text-align: right;\n",
       "    }\n",
       "</style>\n",
       "<table border=\"1\" class=\"dataframe\">\n",
       "  <thead>\n",
       "    <tr style=\"text-align: right;\">\n",
       "      <th></th>\n",
       "      <th>Alabama</th>\n",
       "      <th>Alaska</th>\n",
       "      <th>Arizona</th>\n",
       "      <th>Arkansas</th>\n",
       "      <th>Colorado</th>\n",
       "      <th>...</th>\n",
       "      <th>Washington</th>\n",
       "      <th>West Virginia</th>\n",
       "      <th>Wisconsin</th>\n",
       "      <th>Wyoming</th>\n",
       "      <th>California</th>\n",
       "    </tr>\n",
       "  </thead>\n",
       "  <tbody>\n",
       "    <tr>\n",
       "      <th>0</th>\n",
       "      <td>89.8</td>\n",
       "      <td>121.3</td>\n",
       "      <td>115.2</td>\n",
       "      <td>100.3</td>\n",
       "      <td>124.8</td>\n",
       "      <td>...</td>\n",
       "      <td>96.7</td>\n",
       "      <td>114.5</td>\n",
       "      <td>106.4</td>\n",
       "      <td>132.2</td>\n",
       "      <td>123.0</td>\n",
       "    </tr>\n",
       "    <tr>\n",
       "      <th>1</th>\n",
       "      <td>95.4</td>\n",
       "      <td>123.0</td>\n",
       "      <td>109.6</td>\n",
       "      <td>104.1</td>\n",
       "      <td>125.5</td>\n",
       "      <td>...</td>\n",
       "      <td>97.0</td>\n",
       "      <td>111.5</td>\n",
       "      <td>105.4</td>\n",
       "      <td>131.7</td>\n",
       "      <td>121.0</td>\n",
       "    </tr>\n",
       "    <tr>\n",
       "      <th>2</th>\n",
       "      <td>101.1</td>\n",
       "      <td>130.0</td>\n",
       "      <td>125.0</td>\n",
       "      <td>103.9</td>\n",
       "      <td>134.3</td>\n",
       "      <td>...</td>\n",
       "      <td>88.5</td>\n",
       "      <td>117.5</td>\n",
       "      <td>108.8</td>\n",
       "      <td>140.0</td>\n",
       "      <td>123.5</td>\n",
       "    </tr>\n",
       "    <tr>\n",
       "      <th>3</th>\n",
       "      <td>102.9</td>\n",
       "      <td>125.8</td>\n",
       "      <td>128.3</td>\n",
       "      <td>108.0</td>\n",
       "      <td>137.9</td>\n",
       "      <td>...</td>\n",
       "      <td>91.0</td>\n",
       "      <td>116.6</td>\n",
       "      <td>109.5</td>\n",
       "      <td>141.2</td>\n",
       "      <td>124.4</td>\n",
       "    </tr>\n",
       "    <tr>\n",
       "      <th>4</th>\n",
       "      <td>108.2</td>\n",
       "      <td>130.4</td>\n",
       "      <td>133.1</td>\n",
       "      <td>109.7</td>\n",
       "      <td>132.8</td>\n",
       "      <td>...</td>\n",
       "      <td>98.6</td>\n",
       "      <td>119.9</td>\n",
       "      <td>111.8</td>\n",
       "      <td>145.8</td>\n",
       "      <td>126.7</td>\n",
       "    </tr>\n",
       "  </tbody>\n",
       "</table>\n",
       "<p>5 rows × 51 columns</p>\n",
       "</div>"
      ],
      "text/plain": [
       "   Alabama  Alaska  Arizona  Arkansas  Colorado  ...  Washington  \\\n",
       "0     89.8   121.3    115.2     100.3     124.8  ...        96.7   \n",
       "1     95.4   123.0    109.6     104.1     125.5  ...        97.0   \n",
       "2    101.1   130.0    125.0     103.9     134.3  ...        88.5   \n",
       "3    102.9   125.8    128.3     108.0     137.9  ...        91.0   \n",
       "4    108.2   130.4    133.1     109.7     132.8  ...        98.6   \n",
       "\n",
       "   West Virginia  Wisconsin  Wyoming  California  \n",
       "0          114.5      106.4    132.2       123.0  \n",
       "1          111.5      105.4    131.7       121.0  \n",
       "2          117.5      108.8    140.0       123.5  \n",
       "3          116.6      109.5    141.2       124.4  \n",
       "4          119.9      111.8    145.8       126.7  \n",
       "\n",
       "[5 rows x 51 columns]"
      ]
     },
     "execution_count": 7,
     "metadata": {},
     "output_type": "execute_result"
    }
   ],
   "source": [
    "trainDF.head()"
   ]
  },
  {
   "cell_type": "code",
   "execution_count": 8,
   "metadata": {},
   "outputs": [
    {
     "data": {
      "text/html": [
       "<div>\n",
       "<style scoped>\n",
       "    .dataframe tbody tr th:only-of-type {\n",
       "        vertical-align: middle;\n",
       "    }\n",
       "\n",
       "    .dataframe tbody tr th {\n",
       "        vertical-align: top;\n",
       "    }\n",
       "\n",
       "    .dataframe thead th {\n",
       "        text-align: right;\n",
       "    }\n",
       "</style>\n",
       "<table border=\"1\" class=\"dataframe\">\n",
       "  <thead>\n",
       "    <tr style=\"text-align: right;\">\n",
       "      <th></th>\n",
       "      <th>Alabama</th>\n",
       "      <th>Alaska</th>\n",
       "      <th>Arizona</th>\n",
       "      <th>Arkansas</th>\n",
       "      <th>Colorado</th>\n",
       "      <th>...</th>\n",
       "      <th>Washington</th>\n",
       "      <th>West Virginia</th>\n",
       "      <th>Wisconsin</th>\n",
       "      <th>Wyoming</th>\n",
       "      <th>California</th>\n",
       "    </tr>\n",
       "  </thead>\n",
       "  <tbody>\n",
       "    <tr>\n",
       "      <th>0</th>\n",
       "      <td>105.6</td>\n",
       "      <td>94.4</td>\n",
       "      <td>96.8</td>\n",
       "      <td>118.3</td>\n",
       "      <td>88.8</td>\n",
       "      <td>...</td>\n",
       "      <td>86.1</td>\n",
       "      <td>104.0</td>\n",
       "      <td>100.3</td>\n",
       "      <td>111.4</td>\n",
       "      <td>82.4</td>\n",
       "    </tr>\n",
       "    <tr>\n",
       "      <th>1</th>\n",
       "      <td>108.6</td>\n",
       "      <td>100.2</td>\n",
       "      <td>88.9</td>\n",
       "      <td>113.1</td>\n",
       "      <td>87.4</td>\n",
       "      <td>...</td>\n",
       "      <td>83.4</td>\n",
       "      <td>104.1</td>\n",
       "      <td>94.1</td>\n",
       "      <td>96.9</td>\n",
       "      <td>77.8</td>\n",
       "    </tr>\n",
       "    <tr>\n",
       "      <th>2</th>\n",
       "      <td>107.9</td>\n",
       "      <td>101.8</td>\n",
       "      <td>81.2</td>\n",
       "      <td>116.8</td>\n",
       "      <td>90.2</td>\n",
       "      <td>...</td>\n",
       "      <td>78.7</td>\n",
       "      <td>100.1</td>\n",
       "      <td>95.5</td>\n",
       "      <td>109.1</td>\n",
       "      <td>68.7</td>\n",
       "    </tr>\n",
       "    <tr>\n",
       "      <th>3</th>\n",
       "      <td>109.1</td>\n",
       "      <td>98.5</td>\n",
       "      <td>79.0</td>\n",
       "      <td>126.0</td>\n",
       "      <td>88.3</td>\n",
       "      <td>...</td>\n",
       "      <td>81.1</td>\n",
       "      <td>98.0</td>\n",
       "      <td>96.2</td>\n",
       "      <td>110.8</td>\n",
       "      <td>67.5</td>\n",
       "    </tr>\n",
       "    <tr>\n",
       "      <th>4</th>\n",
       "      <td>108.5</td>\n",
       "      <td>95.2</td>\n",
       "      <td>80.3</td>\n",
       "      <td>113.8</td>\n",
       "      <td>88.6</td>\n",
       "      <td>...</td>\n",
       "      <td>79.4</td>\n",
       "      <td>111.0</td>\n",
       "      <td>91.2</td>\n",
       "      <td>108.4</td>\n",
       "      <td>63.4</td>\n",
       "    </tr>\n",
       "  </tbody>\n",
       "</table>\n",
       "<p>5 rows × 51 columns</p>\n",
       "</div>"
      ],
      "text/plain": [
       "   Alabama  Alaska  Arizona  Arkansas  Colorado  ...  Washington  \\\n",
       "0    105.6    94.4     96.8     118.3      88.8  ...        86.1   \n",
       "1    108.6   100.2     88.9     113.1      87.4  ...        83.4   \n",
       "2    107.9   101.8     81.2     116.8      90.2  ...        78.7   \n",
       "3    109.1    98.5     79.0     126.0      88.3  ...        81.1   \n",
       "4    108.5    95.2     80.3     113.8      88.6  ...        79.4   \n",
       "\n",
       "   West Virginia  Wisconsin  Wyoming  California  \n",
       "0          104.0      100.3    111.4        82.4  \n",
       "1          104.1       94.1     96.9        77.8  \n",
       "2          100.1       95.5    109.1        68.7  \n",
       "3           98.0       96.2    110.8        67.5  \n",
       "4          111.0       91.2    108.4        63.4  \n",
       "\n",
       "[5 rows x 51 columns]"
      ]
     },
     "execution_count": 8,
     "metadata": {},
     "output_type": "execute_result"
    }
   ],
   "source": [
    "testDF.head()"
   ]
  },
  {
   "cell_type": "markdown",
   "metadata": {},
   "source": [
    "Next, we do a sanity check to see if the matrix is indeed low rank. It checks out and looks like we will need only about 4 singular values."
   ]
  },
  {
   "cell_type": "code",
   "execution_count": 9,
   "metadata": {},
   "outputs": [
    {
     "data": {
      "text/plain": [
       "Text(0.5, 1.0, 'Singular Value Spectrum')"
      ]
     },
     "execution_count": 9,
     "metadata": {},
     "output_type": "execute_result"
    },
    {
     "data": {
      "image/png": "[encoded data removed]",
      "text/plain": [
       "<Figure size 432x288 with 1 Axes>"
      ]
     },
     "metadata": {
      "needs_background": "light"
     },
     "output_type": "display_data"
    },
    {
     "data": {
      "image/png": "[encoded data removed]",
      "text/plain": [
       "<Figure size 432x288 with 1 Axes>"
      ]
     },
     "metadata": {
      "needs_background": "light"
     },
     "output_type": "display_data"
    }
   ],
   "source": [
    "(U, s, Vh) = np.linalg.svd((trainDF) - np.mean(trainDF))\n",
    "s2 = np.power(s, 2)\n",
    "spectrum = np.cumsum(s2)/np.sum(s2)\n",
    "\n",
    "plt.plot(spectrum)\n",
    "plt.grid()\n",
    "plt.title(\"Cumulative energy\")\n",
    "plt.figure()\n",
    "#plt.rcParams[\"figure.figsize\"] = [16,9]\n",
    "plt.plot(s2)\n",
    "plt.grid()\n",
    "\n",
    "\n",
    "plt.xlabel(\"Ordered Singular Values\") \n",
    "plt.ylabel(\"Energy\")\n",
    "\n",
    "\n",
    "plt.title(\"Singular Value Spectrum\")"
   ]
  },
  {
   "cell_type": "markdown",
   "metadata": {},
   "source": [
    "This is the all important step, now we create the synthetic control model."
   ]
  },
  {
   "cell_type": "code",
   "execution_count": 10,
   "metadata": {},
   "outputs": [],
   "source": [
    "singvals = 4\n",
    "rscModel = RobustSyntheticControl(caStateKey, singvals, len(trainDF), probObservation=1.0, modelType='svd', svdMethod='numpy', otherSeriesKeysArray=otherStates)\n",
    "rscModel.fit(trainDF)\n",
    "denoisedDF = rscModel.model.denoisedDF()"
   ]
  },
  {
   "cell_type": "markdown",
   "metadata": {},
   "source": [
    "Next up, getting the counterfactual predictions and model fit."
   ]
  },
  {
   "cell_type": "code",
   "execution_count": 11,
   "metadata": {},
   "outputs": [],
   "source": [
    "predictions = []\n",
    "predictions = np.dot(testDF[otherStates], rscModel.model.weights)\n",
    "predictions_noisy = np.dot(testDF[otherStates], rscModel.model.weights)\n",
    "actual = dfProp99.loc[dfProp99['LocationDesc'] == caStateKey]\n",
    "actual = actual.drop('LocationDesc', axis=1)\n",
    "actual = actual.iloc[0]\n",
    "model_fit = np.dot(trainDF[otherStates][:], rscModel.model.weights)"
   ]
  },
  {
   "cell_type": "markdown",
   "metadata": {},
   "source": [
    "And finally, the plot! That's it."
   ]
  },
  {
   "cell_type": "code",
   "execution_count": 28,
   "metadata": {},
   "outputs": [
    {
     "data": {
      "image/png": "[encoded data removed]",
      "text/plain": [
       "<Figure size 1728x576 with 1 Axes>"
      ]
     },
     "metadata": {
      "needs_background": "light"
     },
     "output_type": "display_data"
    }
   ],
   "source": [
    "fig, ax = plt.subplots(1,1)\n",
    "tick_spacing = 5\n",
    "# this is a bug in matplotlib\n",
    "label_markings = np.insert(years[::tick_spacing], 0, 'dummy')\n",
    "\n",
    "ax.set_xticks(np.arange(len(label_markings)))\n",
    "ax.set_xticklabels(label_markings, rotation=45)\n",
    "ax.xaxis.set_major_locator(ticker.MultipleLocator(tick_spacing))\n",
    "\n",
    "plt.rcParams['figure.figsize'] = (, 8.0)\n",
    "\n",
    "plt.plot(years, actual ,label='actual')\n",
    "plt.xlabel('Year')\n",
    "plt.ylabel('Per capita cigarette consumption')\n",
    "plt.plot(trainingYears, model_fit, label='fitted model')\n",
    "plt.plot(testYears, predictions, label='counterfactual')\n",
    "plt.plot(testYears, predictions_noisy, label='counterfactual noisy')\n",
    "plt.title(caStateKey+', Singular Values used: '+str(singvals))\n",
    "\n",
    "xposition = pd.to_datetime(yearTrainEnd,  errors='coerce')\n",
    "plt.axvline(x=str(yearTrainEnd), color='k', linestyle='--', linewidth=4), plt.legend()\n",
    "plt.grid()"
   ]
  },
  {
   "cell_type": "code",
   "execution_count": 22,
   "metadata": {},
   "outputs": [
    {
     "data": {
      "image/png": "[encoded data removed]",
      "text/plain": [
       "<Figure size 576x576 with 1 Axes>"
      ]
     },
     "metadata": {
      "needs_background": "light"
     },
     "output_type": "display_data"
    }
   ],
   "source": [
    "showstates=8\n",
    "ind = np.argpartition(rscModel.model.weights, -showstates)[-showstates:]\n",
    "topstates = [otherStates[i] for i in ind]\n",
    "plt.figure(figsize=(8,8))\n",
    "\n",
    "plt.barh(topstates, rscModel.model.weights[ind]/np.max(rscModel.model.weights), color=list('rgbkymc'))\n",
    "plt.title(\"Normalized weights for the top \"+str(showstates)+\" donor states for synthetic California\")\n",
    "plt.show()"
   ]
  }
 ],
 "metadata": {
  "kernelspec": {
   "display_name": "Python 3",
   "language": "python",
   "name": "python3"
  },
  "language_info": {
   "codemirror_mode": {
    "name": "ipython",
    "version": 3
   },
   "file_extension": ".py",
   "mimetype": "text/x-python",
   "name": "python",
   "nbconvert_exporter": "python",
   "pygments_lexer": "ipython3",
   "version": "3.7.7"
  }
 },
 "nbformat": 4,
 "nbformat_minor": 4
}
